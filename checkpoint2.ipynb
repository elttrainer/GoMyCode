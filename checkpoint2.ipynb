{
  "nbformat": 4,
  "nbformat_minor": 0,
  "metadata": {
    "colab": {
      "provenance": [],
      "authorship_tag": "ABX9TyONsGGONb66m4k7Pi+Wtlbb",
      "include_colab_link": true
    },
    "kernelspec": {
      "name": "python3",
      "display_name": "Python 3"
    },
    "language_info": {
      "name": "python"
    }
  },
  "cells": [
    {
      "cell_type": "markdown",
      "metadata": {
        "id": "view-in-github",
        "colab_type": "text"
      },
      "source": [
        "<a href=\"https://colab.research.google.com/github/elttrainer/GoMyCode/blob/main/checkpoint2.ipynb\" target=\"_parent\"><img src=\"https://colab.research.google.com/assets/colab-badge.svg\" alt=\"Open In Colab\"/></a>"
      ]
    },
    {
      "cell_type": "code",
      "execution_count": 29,
      "metadata": {
        "colab": {
          "base_uri": "https://localhost:8080/"
        },
        "id": "kMoLP8OVilDV",
        "outputId": "5f39c923-b898-4d6c-ca19-d3d5bb86b2a0"
      },
      "outputs": [
        {
          "output_type": "stream",
          "name": "stdout",
          "text": [
            "welcome to the Guess the Number game!\n",
            "I am thinking of a number between 1 and 100. Can you guess what it is?\n",
            "enter your guess:15\n",
            "Your guess is too low. Guess again.\n",
            "enter your guess:100\n",
            "Your guess is too high. Guess again.\n",
            "enter your guess:19\n",
            "Congratulations! You guessed the number correctly!\n"
          ]
        }
      ],
      "source": [
        "print ( \"welcome to the Guess the Number game!\" )\n",
        "from random import*\n",
        "y=randint(1,100)\n",
        "print( \"I am thinking of a number between 1 and 100. Can you guess what it is?\")\n",
        "x=int(input(\"enter your guess:\"))\n",
        "\n",
        "while x<y:\n",
        "      print(\"Your guess is too low. Guess again.\")\n",
        "      x=int(input(\"enter your guess:\"))\n",
        "while x>y:\n",
        "      print(\"Your guess is too high. Guess again.\")\n",
        "      x=int(input(\"enter your guess:\"))\n",
        "\n",
        "else:\n",
        "      print(\"Congratulations! You guessed the number correctly!\")"
      ]
    }
  ]
}