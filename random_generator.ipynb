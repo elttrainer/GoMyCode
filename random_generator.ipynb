{
 "cells": [
  {
   "cell_type": "code",
   "execution_count": 20,
   "id": "b83f22d1",
   "metadata": {},
   "outputs": [
    {
     "name": "stdout",
     "output_type": "stream",
     "text": [
      "Welcome to the PyPassword Generator!\n",
      "How many letters would you like in your password5\n",
      "How many symbols would you like4\n",
      "How many numbers would you like?5\n"
     ]
    }
   ],
   "source": [
    "import random\n",
    "letters = ['a', 'b', 'c', 'd', 'e', 'f', 'g', 'h', 'i', 'j', 'k', 'l', 'm', 'n', 'o', 'p',\n",
    "           'q', 'r', 's', 't', 'u', 'v', 'w', 'x', 'y', 'z', 'A', 'B', 'C', 'D', 'E', 'F', \n",
    "           'G', 'H', 'I', 'J', 'K', 'L', 'M', 'N', 'O', 'P', 'Q', 'R', 'S', 'T', 'U', 'V', 'W', 'X', 'Y', 'Z']\n",
    "numbers = ['0', '1', '2', '3', '4', '5', '6', '7', '8', '9']\n",
    "symbols = ['!', '#', '$', '%', '&', '(', ')', '*', '+']\n",
    "print(\"Welcome to the PyPassword Generator!\")\n",
    "nr_letters = int(input(\"How many letters would you like in your password\")) \n",
    "nr_symbols = int(input(f\"How many symbols would you like\"))\n",
    "nr_numbers = int(input(f\"How many numbers would you like?\"))"
   ]
  },
  {
   "cell_type": "code",
   "execution_count": 21,
   "id": "3aeb9ec9",
   "metadata": {},
   "outputs": [
    {
     "name": "stdout",
     "output_type": "stream",
     "text": [
      "['p', 'p', 'c', 'u', 'i', '!', '(', '$', '#', '3', '6', '1', '8', '5']\n",
      "['c', '$', '8', '3', '6', 'p', 'u', '#', 'i', '!', '(', '5', '1', 'p']\n"
     ]
    }
   ],
   "source": [
    "password_list = []\n",
    "for i in range (1, nr_letters+1):\n",
    "    password_list.append(random.choice(letters))\n",
    "for i in range (1, nr_symbols+1):\n",
    "    password_list += random.choice(symbols)\n",
    "for i in range (1, nr_numbers+1):\n",
    "    password_list += random.choice(numbers)\n",
    "print(password_list)\n",
    "random.shuffle(password_list)\n",
    "print(password_list)"
   ]
  },
  {
   "cell_type": "code",
   "execution_count": 22,
   "id": "30465da6",
   "metadata": {},
   "outputs": [
    {
     "name": "stdout",
     "output_type": "stream",
     "text": [
      "c$836pu#i!(51p\n"
     ]
    }
   ],
   "source": [
    "password = \"\"\n",
    "for y in password_list:\n",
    "    password +=y\n",
    "print(password)"
   ]
  }
 ],
 "metadata": {
  "kernelspec": {
   "display_name": "Python 3 (ipykernel)",
   "language": "python",
   "name": "python3"
  },
  "language_info": {
   "codemirror_mode": {
    "name": "ipython",
    "version": 3
   },
   "file_extension": ".py",
   "mimetype": "text/x-python",
   "name": "python",
   "nbconvert_exporter": "python",
   "pygments_lexer": "ipython3",
   "version": "3.9.12"
  }
 },
 "nbformat": 4,
 "nbformat_minor": 5
}
