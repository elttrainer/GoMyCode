{
 "cells": [
  {
   "cell_type": "code",
   "execution_count": 1,
   "id": "1658b5d8",
   "metadata": {
    "scrolled": true
   },
   "outputs": [
    {
     "ename": "ModuleNotFoundError",
     "evalue": "No module named 'Numpy'",
     "output_type": "error",
     "traceback": [
      "\u001b[1;31m---------------------------------------------------------------------------\u001b[0m",
      "\u001b[1;31mModuleNotFoundError\u001b[0m                       Traceback (most recent call last)",
      "Input \u001b[1;32mIn [1]\u001b[0m, in \u001b[0;36m<cell line: 2>\u001b[1;34m()\u001b[0m\n\u001b[0;32m      1\u001b[0m \u001b[38;5;28;01mimport\u001b[39;00m \u001b[38;5;21;01mpandas\u001b[39;00m \u001b[38;5;28;01mas\u001b[39;00m \u001b[38;5;21;01mpd\u001b[39;00m\n\u001b[1;32m----> 2\u001b[0m \u001b[38;5;28;01mimport\u001b[39;00m \u001b[38;5;21;01mNumpy\u001b[39;00m \u001b[38;5;28;01mas\u001b[39;00m \u001b[38;5;21;01mnp\u001b[39;00m\n",
      "\u001b[1;31mModuleNotFoundError\u001b[0m: No module named 'Numpy'"
     ]
    }
   ],
   "source": [
    "import pandas as pd\n",
    "import Numpy as np"
   ]
  },
  {
   "cell_type": "code",
   "execution_count": null,
   "id": "11a581d9",
   "metadata": {},
   "outputs": [],
   "source": [
    "exam_data = {'name': ['Anastasia', 'Dima', 'Katherine', 'James', 'Emily', 'Michael', 'Matthew', 'Laura', 'Kevin', 'Jonas', \"Elias\", 'Myriam'],\n",
    "\n",
    "'score': [12.5, 9, 16.5, np.nan, 9, 20, 14.5, np.nan , 8, 19, 20, 16],\n",
    "\n",
    "'attempts': [1, 3, 2, 3, 2, 3, 1, 1, np.nan ,1, 3, 2],\n",
    "\n",
    "'qualify': ['yes', 'no', 'yes', 'no', 'no', 'yes', 'yes', 'no',np.nan , 'yes', 'yes', 'yes']}\n",
    "\n",
    "labels = ['a', 'b', 'c', 'd', 'e', 'f', 'g', 'h', 'i', 'j', 'k', 'l']"
   ]
  },
  {
   "cell_type": "code",
   "execution_count": null,
   "id": "aa77a73e",
   "metadata": {},
   "outputs": [],
   "source": [
    "df = pd.DataFrame(exam_data)\n",
    "df1 = pd.DataFrame(labels, columns =  ['labels'])\n",
    "df = df.joint(df1)        \n",
    "df.set_index('labels', inplace=True)"
   ]
  },
  {
   "cell_type": "code",
   "execution_count": null,
   "id": "5bcf8709",
   "metadata": {},
   "outputs": [],
   "source": [
    "df.head(3)"
   ]
  },
  {
   "cell_type": "code",
   "execution_count": null,
   "id": "f5a40be0",
   "metadata": {},
   "outputs": [],
   "source": [
    "new_data = df[\"name\", \"score\"]"
   ]
  },
  {
   "cell_type": "code",
   "execution_count": null,
   "id": "f7af3270",
   "metadata": {},
   "outputs": [],
   "source": [
    "df.drop(\"attempts\", axis=1)"
   ]
  },
  {
   "cell_type": "code",
   "execution_count": null,
   "id": "0e488973",
   "metadata": {},
   "outputs": [],
   "source": [
    "df[\"success\"] = (def[\"score\"]>10)\n",
    "df[\"success\"] = df[\"success\"].astype(int)"
   ]
  },
  {
   "cell_type": "code",
   "execution_count": null,
   "id": "dbccf669",
   "metadata": {},
   "outputs": [],
   "source": [
    "data.to_csv(\"exam_data\")\n",
    "my_data = pd.read(\"exam_data\")"
   ]
  }
 ],
 "metadata": {
  "kernelspec": {
   "display_name": "Python 3 (ipykernel)",
   "language": "python",
   "name": "python3"
  },
  "language_info": {
   "codemirror_mode": {
    "name": "ipython",
    "version": 3
   },
   "file_extension": ".py",
   "mimetype": "text/x-python",
   "name": "python",
   "nbconvert_exporter": "python",
   "pygments_lexer": "ipython3",
   "version": "3.9.12"
  }
 },
 "nbformat": 4,
 "nbformat_minor": 5
}
