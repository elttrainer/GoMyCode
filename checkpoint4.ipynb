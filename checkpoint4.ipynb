{
 "cells": [
  {
   "cell_type": "code",
   "execution_count": 10,
   "id": "f6ac9b2a",
   "metadata": {},
   "outputs": [
    {
     "name": "stdout",
     "output_type": "stream",
     "text": [
      "36\n"
     ]
    }
   ],
   "source": [
    "def multiply_list(my_list):\n",
    "    result = 1\n",
    "    for n in my_list:\n",
    "        result = result * n\n",
    "    return result\n",
    "my_list = [2,3,6]\n",
    "print(multiply_list(my_list))\n",
    "    "
   ]
  },
  {
   "cell_type": "code",
   "execution_count": 12,
   "id": "4a37d32b",
   "metadata": {},
   "outputs": [
    {
     "name": "stdout",
     "output_type": "stream",
     "text": [
      "{'a': 400, 'b': 400, 'c': 300, 'd': 400}\n"
     ]
    }
   ],
   "source": [
    "d1 = {'a': 100, 'b': 200, 'c':300}\n",
    "\n",
    "d2 = {'a': 300, 'b': 200, 'd':400}\n",
    "\n",
    "for key in d2:\n",
    "    if key in d1:\n",
    "        d2[key] = d1[key] + d2[key]\n",
    "    else:\n",
    "        pass\n",
    "d3 = d1 | d2\n",
    "print(d3)"
   ]
  },
  {
   "cell_type": "code",
   "execution_count": null,
   "id": "ba5a3cd6",
   "metadata": {},
   "outputs": [],
   "source": [
    "n=int(input(\"Write a number\"))\n",
    "d=dict()\n",
    "for i in range(1,n+1):\n",
    "    d[i]=i*i \n",
    "print(d)"
   ]
  }
 ],
 "metadata": {
  "kernelspec": {
   "display_name": "Python 3 (ipykernel)",
   "language": "python",
   "name": "python3"
  },
  "language_info": {
   "codemirror_mode": {
    "name": "ipython",
    "version": 3
   },
   "file_extension": ".py",
   "mimetype": "text/x-python",
   "name": "python",
   "nbconvert_exporter": "python",
   "pygments_lexer": "ipython3",
   "version": "3.9.12"
  }
 },
 "nbformat": 4,
 "nbformat_minor": 5
}
