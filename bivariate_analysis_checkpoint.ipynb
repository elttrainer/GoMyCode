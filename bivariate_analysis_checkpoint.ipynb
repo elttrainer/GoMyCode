{
 "cells": [
  {
   "cell_type": "code",
   "execution_count": null,
   "id": "8e1d26a2",
   "metadata": {},
   "outputs": [],
   "source": [
    "import pandas as pd\n",
    "import numpy as np\n",
    "df=pd.read_csv(\"HR_comma_sep\")\n",
    "df.head()\n",
    "df.corr\n",
    "df.corr()[\"satisfaction_level\"].sort_values().to_frame()\n",
    "np.corrcoef(df[\"average_montly_hours\", df[\"number_project\"]])\n",
    "from sklearn.linear_model import LinearRegression\n",
    "model=LinearRegression()\n",
    "reg=model.fit(np.array(df[\"average_montly_hours\"]).reshape(-1,1),np.array(df[\"number_project\"]).reshape(-1,1)\n",
    "df[\"average_montly_hours\"]\n",
    "np.array(df[\"average_montly_hours\"])\n",
    "print(\"intercept\",model.intercept_)\n",
    "print(\"coeficient\",model.coef_)"
   ]
  },
  {
   "cell_type": "code",
   "execution_count": null,
   "id": "840bd90b",
   "metadata": {},
   "outputs": [],
   "source": [
    "r_sq=model.score(np.array(df[\"average_montly_hours\"]).reshape(-1,1),np.array(df[\"number_project\"]).reshape(-1,1))\n",
    "r_sq"
   ]
  },
  {
   "cell_type": "code",
   "execution_count": null,
   "id": "c943a733",
   "metadata": {},
   "outputs": [],
   "source": [
    "average_montly_hours = 1.73289239 + 0.01029673*5\n",
    "average_montly_hours"
   ]
  }
 ],
 "metadata": {
  "kernelspec": {
   "display_name": "Python 3 (ipykernel)",
   "language": "python",
   "name": "python3"
  },
  "language_info": {
   "codemirror_mode": {
    "name": "ipython",
    "version": 3
   },
   "file_extension": ".py",
   "mimetype": "text/x-python",
   "name": "python",
   "nbconvert_exporter": "python",
   "pygments_lexer": "ipython3",
   "version": "3.9.12"
  }
 },
 "nbformat": 4,
 "nbformat_minor": 5
}
