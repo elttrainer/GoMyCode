{
 "cells": [
  {
   "cell_type": "code",
   "execution_count": 5,
   "id": "ce9eb3db",
   "metadata": {},
   "outputs": [
    {
     "name": "stdout",
     "output_type": "stream",
     "text": [
      "Account Number: account-1\n",
      "Account Holder: Ali\n",
      "Balance after deposit: 400.0\n",
      "Balance after withdrawal: 300.0\n",
      "Operation failed. The amount is superior to your balance.\n",
      "---- Test Multiple Accounts ----\n",
      "Account 1 Balance: 500.0\n",
      "Account 2 Balance: 600.0\n",
      "Account 3 Balance: 1200.0\n",
      "Account 1 Balance after withdrawal: 0.0\n",
      "Account 2 Balance after deposit: 900.0\n",
      "Account 3 Balance after deposit: 1600.0\n"
     ]
    }
   ],
   "source": [
    "class Account:\n",
    "    counter = 0\n",
    "\n",
    "    def __init__(self, account_balance, account_holder):\n",
    "        Account.counter += 1\n",
    "        self.account_number = f\"account-{Account.counter}\"\n",
    "        self._account_balance = account_balance\n",
    "        self.account_holder = account_holder\n",
    "\n",
    "    def deposit(self, amount):\n",
    "        self._account_balance += amount\n",
    "\n",
    "    def withdraw(self, amount):\n",
    "        if self._account_balance >= amount:\n",
    "            self._account_balance -= amount\n",
    "        else:\n",
    "            print(\"Operation failed. The amount is superior to your balance.\")\n",
    "\n",
    "    def check_balance(self):\n",
    "        return self._account_balance\n",
    "\n",
    "\n",
    "if __name__ == \"__main__\":\n",
    "    my_account = Account(account_balance=100.0, account_holder=\"Ali\")\n",
    "    print(f\"Account Number: {my_account.account_number}\")\n",
    "    print(f\"Account Holder: {my_account.account_holder}\")\n",
    "\n",
    "    my_account.deposit(300.0)\n",
    "    print(f\"Balance after deposit: {my_account.check_balance()}\")\n",
    "\n",
    "    my_account.withdraw(100.0)\n",
    "    print(f\"Balance after withdrawal: {my_account.check_balance()}\")\n",
    "\n",
    "    my_account.withdraw(500.0)\n",
    "\n",
    "    print(\"---- Test Multiple Accounts ----\")\n",
    "    account1 = Account(account_balance=500.0, account_holder=\"Amine\")\n",
    "    account2 = Account(account_balance=600.0, account_holder=\"Sinda\")\n",
    "    account3 = Account(account_balance=1200.0, account_holder=\"Alia\")\n",
    "\n",
    "    print(f\"Account 1 Balance: {account1.check_balance()}\")\n",
    "    print(f\"Account 2 Balance: {account2.check_balance()}\")\n",
    "    print(f\"Account 3 Balance: {account3.check_balance()}\")\n",
    "\n",
    "    account1.withdraw(500.0)\n",
    "    account2.deposit(300.0)\n",
    "    account3.deposit(400.0)\n",
    "\n",
    "    print(f\"Account 1 Balance after withdrawal: {account1.check_balance()}\")\n",
    "    print(f\"Account 2 Balance after deposit: {account2.check_balance()}\")\n",
    "    print(f\"Account 3 Balance after deposit: {account3.check_balance()}\")"
   ]
  },
  {
   "cell_type": "code",
   "execution_count": null,
   "id": "35ebc3b6",
   "metadata": {},
   "outputs": [],
   "source": []
  }
 ],
 "metadata": {
  "kernelspec": {
   "display_name": "Python 3 (ipykernel)",
   "language": "python",
   "name": "python3"
  },
  "language_info": {
   "codemirror_mode": {
    "name": "ipython",
    "version": 3
   },
   "file_extension": ".py",
   "mimetype": "text/x-python",
   "name": "python",
   "nbconvert_exporter": "python",
   "pygments_lexer": "ipython3",
   "version": "3.11.3"
  }
 },
 "nbformat": 4,
 "nbformat_minor": 5
}
