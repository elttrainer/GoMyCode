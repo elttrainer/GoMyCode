{
 "cells": [
  {
   "cell_type": "code",
   "execution_count": 1,
   "id": "036efcb3",
   "metadata": {},
   "outputs": [
    {
     "name": "stdin",
     "output_type": "stream",
     "text": [
      "Write the number here:  12\n"
     ]
    },
    {
     "name": "stdout",
     "output_type": "stream",
     "text": [
      "The result is: 122436\n"
     ]
    }
   ],
   "source": [
    "n=int(input(\"Write the number here: \"))\n",
    "x=str(n)\n",
    "n1=(x+x)\n",
    "n2=(x+x+x)\n",
    "result= n + int(n1) + int(n2)\n",
    "print(\"The result is:\",result)"
   ]
  },
  {
   "cell_type": "code",
   "execution_count": 41,
   "id": "3f708b0f",
   "metadata": {},
   "outputs": [
    {
     "name": "stdout",
     "output_type": "stream",
     "text": [
      "Write the number here: 5\n",
      "5 is odd\n"
     ]
    }
   ],
   "source": [
    "n=int(input(\"Write the number here: \"))\n",
    "if (n % 2) == 0:\n",
    "    print (n, \"is even\")\n",
    "else: \n",
    "    print (n, \"is odd\")"
   ]
  },
  {
   "cell_type": "code",
   "execution_count": 44,
   "id": "2c8a2a18",
   "metadata": {},
   "outputs": [
    {
     "name": "stdout",
     "output_type": "stream",
     "text": [
      "200220092016202320372044205120582072207920862093210721142121212821422149215621632177218421912198221222192226223322472254226122682282228922962303231723242331233823522359236623732387239424012408242224292436244324572464247124782492249925062513252725342541254825622569257625832597260426112618263226392646265326672674268126882702270927162723273727442751275827722779278627932807281428212828284228492856286328772884289128982912291929262933294729542961296829822989299630033017302430313038305230593066307330873094310131083122312931363143315731643171317831923199"
     ]
    }
   ],
   "source": [
    "for n in range (2000,3200):\n",
    "    if (n%7) == 0 and (n%5) !=0:\n",
    "        print(n, end=\"\")"
   ]
  },
  {
   "cell_type": "code",
   "execution_count": null,
   "id": "655f8a37",
   "metadata": {},
   "outputs": [
    {
     "name": "stdin",
     "output_type": "stream",
     "text": [
      "Write a number :  12\n"
     ]
    }
   ],
   "source": [
    "def factorial(n):\n",
    "    if n>=1:\n",
    "        return n * factorial(n)\n",
    "    n= n-1\n",
    "n=int(input(\"Write a number : \"))\n",
    "print(factorial(n))"
   ]
  },
  {
   "cell_type": "code",
   "execution_count": 21,
   "id": "f7614251",
   "metadata": {},
   "outputs": [
    {
     "name": "stdin",
     "output_type": "stream",
     "text": [
      "Write the words:  Hello team\n"
     ]
    },
    {
     "name": "stdout",
     "output_type": "stream",
     "text": [
      "The result is :      Hlota\n"
     ]
    }
   ],
   "source": [
    "string = input(\"Write the words: \")\n",
    "result = \"\"\n",
    "for i in range(len(string)):\n",
    "    if(i % 2 == 0):\n",
    "        result = result + string[i]\n",
    "        \n",
    "print(\"The result is :     \", result)"
   ]
  }
 ],
 "metadata": {
  "kernelspec": {
   "display_name": "Python 3 (ipykernel)",
   "language": "python",
   "name": "python3"
  },
  "language_info": {
   "codemirror_mode": {
    "name": "ipython",
    "version": 3
   },
   "file_extension": ".py",
   "mimetype": "text/x-python",
   "name": "python",
   "nbconvert_exporter": "python",
   "pygments_lexer": "ipython3",
   "version": "3.9.12"
  }
 },
 "nbformat": 4,
 "nbformat_minor": 5
}
