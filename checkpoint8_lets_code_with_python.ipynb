{
 "cells": [
  {
   "cell_type": "code",
   "execution_count": 26,
   "id": "f2f18b06",
   "metadata": {},
   "outputs": [
    {
     "name": "stdout",
     "output_type": "stream",
     "text": [
      "5\n",
      "4\n",
      "7\n",
      "8\n",
      "9\n",
      "5\n",
      "10\n",
      "15\n",
      "15\n"
     ]
    }
   ],
   "source": [
    "my_list =[1,2,3,5,4,7,8,9,5,10,15,15,10]\n",
    "for n in my_list[-10 : -1]:\n",
    "    print(n)"
   ]
  },
  {
   "cell_type": "code",
   "execution_count": 27,
   "id": "9a8ea3e1",
   "metadata": {},
   "outputs": [
    {
     "name": "stdout",
     "output_type": "stream",
     "text": [
      "Write the number here: 2\n",
      "1\n"
     ]
    }
   ],
   "source": [
    "number = int(input(\"Write the number here: \"))\n",
    "count = str(number)\n",
    "print(len(count))"
   ]
  },
  {
   "cell_type": "code",
   "execution_count": 28,
   "id": "53121834",
   "metadata": {},
   "outputs": [
    {
     "name": "stdout",
     "output_type": "stream",
     "text": [
      "Write the number here: 2\n",
      "Cube of 2 is 8\n"
     ]
    }
   ],
   "source": [
    "n = int(input(\"Write the number here: \"))\n",
    "def cube(n):\n",
    "    return n*n*n\n",
    "print(\"Cube of {0} is {1}\".format(n, cube(number)))\n"
   ]
  },
  {
   "cell_type": "code",
   "execution_count": 29,
   "id": "6cae3ecb",
   "metadata": {},
   "outputs": [
    {
     "name": "stdout",
     "output_type": "stream",
     "text": [
      "50\n",
      "70\n"
     ]
    }
   ],
   "source": [
    "def calculation(x, y):\n",
    "    n = x * y\n",
    "    if n > 1000:\n",
    "        return x+y\n",
    "    else:\n",
    "        return n\n",
    "\n",
    "\n",
    "result = calculation(5, 10)\n",
    "print(result)\n",
    "\n",
    "result = calculation(40, 30)\n",
    "print(result)"
   ]
  },
  {
   "cell_type": "code",
   "execution_count": 30,
   "id": "a473e60d",
   "metadata": {},
   "outputs": [
    {
     "name": "stdout",
     "output_type": "stream",
     "text": [
      "True\n"
     ]
    }
   ],
   "source": [
    "my_list = [1,2,3,1]\n",
    "if my_list[0] == my_list[-1]:\n",
    "    print (\"True\")\n",
    "else:\n",
    "    print (\"False\")"
   ]
  },
  {
   "cell_type": "code",
   "execution_count": 31,
   "id": "5ccec68c",
   "metadata": {},
   "outputs": [
    {
     "name": "stdout",
     "output_type": "stream",
     "text": [
      "None\n"
     ]
    }
   ],
   "source": [
    "first_list = [10, 22, 23, 11, 17]\n",
    "second_list = [13, 43, 24, 36, 12]\n",
    "final_list = []\n",
    "\n",
    "def Split(final_list):\n",
    "    for i in first_list:\n",
    "        if (i % 2 == 0):\n",
    "            final_list.append(i)\n",
    "        else:\n",
    "            pass\n",
    "    for i in second_list:\n",
    "        if (i % 2 != 0):\n",
    "            final_list.append(i)\n",
    "        else:\n",
    "            pass\n",
    "\n",
    "\n",
    "result = Split(final_list)\n",
    "print(result)\n"
   ]
  },
  {
   "cell_type": "code",
   "execution_count": 36,
   "id": "3e7ba88d",
   "metadata": {},
   "outputs": [
    {
     "name": "stdout",
     "output_type": "stream",
     "text": [
      " 11 :  2\n",
      " 45 :  3\n",
      " 8 :  1\n",
      " 23 :  2\n",
      " 89 :  1\n",
      "{11: 2, 45: 3, 8: 1, 23: 2, 89: 1}\n"
     ]
    }
   ],
   "source": [
    "my_dict = {}\n",
    "my_list = []\n",
    "def result(my_list):\n",
    "    for n in my_list:\n",
    "        if n in my_dict:\n",
    "            my_dict[n] += 1\n",
    "        else:\n",
    "            my_dict[n] = 1\n",
    " \n",
    "    for key, value in my_dict.items():\n",
    "        print (\"% d : % d\"%(key, value))\n",
    "my_list = [11, 45, 8, 11, 23, 45, 23, 45, 89]\n",
    "result(my_list)\n",
    "print(my_dict)"
   ]
  },
  {
   "cell_type": "code",
   "execution_count": 43,
   "id": "767f7a4b",
   "metadata": {},
   "outputs": [
    {
     "name": "stdout",
     "output_type": "stream",
     "text": [
      "{57, 83, 29}\n",
      "[65, 23, 42, 78]\n",
      "[48, 67, 73, 43]\n"
     ]
    }
   ],
   "source": [
    "def intersection(set_1, set_2):\n",
    "    return set(set_1 & set_2)\n",
    "\n",
    "set_1 =  {65, 42, 78, 83, 23, 57, 29}\n",
    "set_2 = {67, 73, 43, 48, 83, 57, 29}\n",
    "intersection_set = intersection(set_1, set_2)\n",
    "remain_set_1 = []\n",
    "remain_set_2 = []\n",
    "for n in set_1:\n",
    "    if n not in intersection_set:\n",
    "        remain_set_1.append(n)\n",
    "for n in set_2:\n",
    "    if n not in intersection_set:\n",
    "        remain_set_2.append(n)\n",
    "print(intersection_set)\n",
    "print(remain_set_1)\n",
    "print(remain_set_2)"
   ]
  },
  {
   "cell_type": "code",
   "execution_count": null,
   "id": "1f7ae454",
   "metadata": {},
   "outputs": [],
   "source": []
  }
 ],
 "metadata": {
  "kernelspec": {
   "display_name": "Python 3 (ipykernel)",
   "language": "python",
   "name": "python3"
  },
  "language_info": {
   "codemirror_mode": {
    "name": "ipython",
    "version": 3
   },
   "file_extension": ".py",
   "mimetype": "text/x-python",
   "name": "python",
   "nbconvert_exporter": "python",
   "pygments_lexer": "ipython3",
   "version": "3.9.12"
  }
 },
 "nbformat": 4,
 "nbformat_minor": 5
}
