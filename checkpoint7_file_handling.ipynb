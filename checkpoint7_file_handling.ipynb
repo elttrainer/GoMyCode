{
 "cells": [
  {
   "cell_type": "code",
   "execution_count": null,
   "id": "1a7c55fe",
   "metadata": {},
   "outputs": [],
   "source": [
    "f = open(\"downloads/python.txt\",'r',encoding = 'utf-8')\n",
    "for line in f:\n",
    "       print(line, end =\"\")"
   ]
  },
  {
   "cell_type": "code",
   "execution_count": null,
   "id": "2d09e074",
   "metadata": {},
   "outputs": [],
   "source": [
    "f = open(\"downloads/python.txt\",'r',encoding = 'utf-8')\n",
    "f.readlines(10) "
   ]
  },
  {
   "cell_type": "code",
   "execution_count": null,
   "id": "4ee49db9",
   "metadata": {},
   "outputs": [],
   "source": [
    "f = open(\"downloads/python.txt\",'r',encoding = 'utf-8')\n",
    "f.readlines(-4) "
   ]
  }
 ],
 "metadata": {
  "kernelspec": {
   "display_name": "Python 3 (ipykernel)",
   "language": "python",
   "name": "python3"
  },
  "language_info": {
   "codemirror_mode": {
    "name": "ipython",
    "version": 3
   },
   "file_extension": ".py",
   "mimetype": "text/x-python",
   "name": "python",
   "nbconvert_exporter": "python",
   "pygments_lexer": "ipython3",
   "version": "3.9.12"
  }
 },
 "nbformat": 4,
 "nbformat_minor": 5
}
