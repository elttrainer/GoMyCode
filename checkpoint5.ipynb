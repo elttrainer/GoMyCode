{
 "cells": [
  {
   "cell_type": "code",
   "execution_count": 1,
   "id": "9657e0d8",
   "metadata": {},
   "outputs": [
    {
     "name": "stdout",
     "output_type": "stream",
     "text": [
      "9\n"
     ]
    }
   ],
   "source": [
    "def maximum_three_numbers(a,b,c):\n",
    "\n",
    "    return max(a,max(b,c))\n",
    "\n",
    "print(maximum_three_numbers(8, 5, 9))"
   ]
  },
  {
   "cell_type": "code",
   "execution_count": 2,
   "id": "7bf791a2",
   "metadata": {},
   "outputs": [
    {
     "name": "stdout",
     "output_type": "stream",
     "text": [
      "(40, 20)\n"
     ]
    }
   ],
   "source": [
    "def calculation(a,b):\n",
    "    addition = a + b\n",
    "    substraction = a - b\n",
    "    return (addition, substraction)\n",
    "print(calculation(30,10))"
   ]
  },
  {
   "cell_type": "code",
   "execution_count": 3,
   "id": "9d284109",
   "metadata": {},
   "outputs": [
    {
     "name": "stdout",
     "output_type": "stream",
     "text": [
      "12 48\n",
      "[4, 3, 1]\n",
      "[2, 2]\n",
      "8\n",
      "4\n"
     ]
    }
   ],
   "source": [
    "def addition(my_list) :\n",
    "    total = 0\n",
    "    for n in my_list:\n",
    "         total += n\n",
    "    return total\n",
    "\n",
    "def multiplication(my_list) :\n",
    "    result = 1\n",
    "    for n in my_list:\n",
    "         result *= n\n",
    "    return result\n",
    "     \n",
    "\n",
    "my_list = [4, 2, 3, 2, 1]\n",
    "\n",
    "print(addition(my_list), multiplication(my_list))\n",
    "            \n",
    "d1 = []\n",
    "for n in my_list[::2]:\n",
    "    d1.append(n)\n",
    "\n",
    "\n",
    "d2 = []\n",
    "for n in my_list:\n",
    "    if n not in d1:\n",
    "        d2.append(n)\n",
    "        \n",
    "print(d1)\n",
    "print(d2)\n",
    "\n",
    "d1 = addition(d1)\n",
    "d2 = multiplication(d2)\n",
    "\n",
    "            \n",
    "print(d1)\n",
    "print(d2)\n"
   ]
  },
  {
   "cell_type": "code",
   "execution_count": 6,
   "id": "125998df",
   "metadata": {},
   "outputs": [
    {
     "name": "stdout",
     "output_type": "stream",
     "text": [
      "Write the sequence of hyphenated words below.\n",
      "green-red-yellow-black-white\n",
      "['black', 'green', 'red', 'white', 'yellow']\n",
      "black-green-red-white-yellow\n"
     ]
    }
   ],
   "source": [
    "print(\"Write the sequence of hyphenated words below.\")\n",
    "sequence=[n for n in input().split(\"-\")]\n",
    "sequence.sort()\n",
    "print(sequence)\n",
    "print(\"-\".join(sequence))"
   ]
  }
 ],
 "metadata": {
  "kernelspec": {
   "display_name": "Python 3 (ipykernel)",
   "language": "python",
   "name": "python3"
  },
  "language_info": {
   "codemirror_mode": {
    "name": "ipython",
    "version": 3
   },
   "file_extension": ".py",
   "mimetype": "text/x-python",
   "name": "python",
   "nbconvert_exporter": "python",
   "pygments_lexer": "ipython3",
   "version": "3.9.12"
  }
 },
 "nbformat": 4,
 "nbformat_minor": 5
}
