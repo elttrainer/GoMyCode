{
 "cells": [
  {
   "cell_type": "code",
   "execution_count": null,
   "id": "44864369",
   "metadata": {},
   "outputs": [],
   "source": [
    "import pandas as pd\n",
    "import numpy as pd\n",
    "from sklearn.preprocessing import LabelEncoder\n",
    "df = pd.read_csv(\"titanic-passengers.csv\", sep=\";\")\n",
    "df\n",
    "df.info()\n",
    "df.isnull().sum()\n",
    "df\n",
    "df.describe\n",
    "df.drop(\"Cabin\", axis= 1, inplace= True)\n",
    "df[\"Age\"].fillna(df[\"Age]\".mean(), inplace=True])\n",
    "df[\"Embarked\"].fillna(df[\"Embarked]\".mode()[0], inplace=True])\n",
    "df.isnull().sum()\n",
    "df.info()\n",
    "def[\"Sex\"].replace({\"male\":0 , \"female\":1}, inplace=True)\n",
    "def[\"Survived\"].replace({\"Yes\":0 , \"No\":1}, inplace=True)\n",
    "enocder = LabelEncoder()\n",
    "df[\"Embarked\"] = enocder.fit_transform(df[\"Embarked\"])\n",
    "df[\"Ticket\"] = enocder.fit_transform(df[\"Ticket\"])\n",
    "df[\"Name\"] = enocder.fit_transform(df[\"Name\"])\n",
    "df.info()\n"
   ]
  }
 ],
 "metadata": {
  "kernelspec": {
   "display_name": "Python 3 (ipykernel)",
   "language": "python",
   "name": "python3"
  },
  "language_info": {
   "codemirror_mode": {
    "name": "ipython",
    "version": 3
   },
   "file_extension": ".py",
   "mimetype": "text/x-python",
   "name": "python",
   "nbconvert_exporter": "python",
   "pygments_lexer": "ipython3",
   "version": "3.9.12"
  }
 },
 "nbformat": 4,
 "nbformat_minor": 5
}
