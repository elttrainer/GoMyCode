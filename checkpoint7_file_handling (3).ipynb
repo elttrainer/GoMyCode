{
 "cells": [
  {
   "cell_type": "code",
   "execution_count": 30,
   "id": "1a7c55fe",
   "metadata": {},
   "outputs": [
    {
     "name": "stdout",
     "output_type": "stream",
     "text": [
      "What is Python language?                                                \n",
      "Python is a widely used high-level, general-purpose, interpreted, dynamic programming language.Its design philosophy emphasizes code readability, and its syntax allows programmers to express concepts in fewer lines of code than possible in \n",
      "languages such as C++ or Java. \n",
      "Python supports multiple programming paradigms, including object-oriented, imperative and functional programming or procedural styles. It features a dynamic type system and automatic memory management and has a large and comprehensive standard library.The best way we learn anything is by practice and exercise questions. We  have started this section for those (beginner to intermediate) who are familiar with Python."
     ]
    }
   ],
   "source": [
    "f = open(\"downloads/python.txt\",'r',encoding = 'utf-8')\n",
    "for line in f:\n",
    "       print(line, end =\"\")"
   ]
  },
  {
   "cell_type": "code",
   "execution_count": 31,
   "id": "4ee49db9",
   "metadata": {},
   "outputs": [
    {
     "name": "stdout",
     "output_type": "stream",
     "text": [
      "Write number 2\n",
      "What is Python language?                                                \n",
      "Python is a widely used high-level, general-purpose, interpreted, dynamic programming language.Its design philosophy emphasizes code readability, and its syntax allows programmers to express concepts in fewer lines of code than possible in \n"
     ]
    }
   ],
   "source": [
    "number = int(input(\"Write number \"))\n",
    "f = open(\"downloads/python.txt\",'r',encoding = 'utf-8')\n",
    "lines=f.readlines()\n",
    "for i in range(number):\n",
    "    print(lines[i],end=\"\")"
   ]
  },
  {
   "cell_type": "code",
   "execution_count": 37,
   "id": "ad10b63c",
   "metadata": {},
   "outputs": [
    {
     "name": "stdout",
     "output_type": "stream",
     "text": [
      "Write number 3\n",
      "Python is a widely used high-level, general-purpose, interpreted, dynamic programming language.Its design philosophy emphasizes code readability, and its syntax allows programmers to express concepts in fewer lines of code than possible in \n",
      " "
     ]
    }
   ],
   "source": [
    "number = int(input(\"Write number \"))\n",
    "f = open(\"downloads/python.txt\",'r',encoding = 'utf-8')\n",
    "def negative_number(number):\n",
    "    last_lines=f.readlines()\n",
    "    neg = number * -1\n",
    "    return neg\n",
    "print(last_lines[negative_number(number)],end=\" \")"
   ]
  },
  {
   "cell_type": "code",
   "execution_count": 33,
   "id": "e6cceaf3",
   "metadata": {},
   "outputs": [
    {
     "name": "stdout",
     "output_type": "stream",
     "text": [
      "151\n"
     ]
    }
   ],
   "source": [
    "f = open(\"downloads/python.txt\",'r',encoding = 'utf-8')\n",
    "count = 0\n",
    "for line in f:\n",
    "    words = line.split(\" \")\n",
    "    count += len(words)\n",
    "print(count)"
   ]
  }
 ],
 "metadata": {
  "kernelspec": {
   "display_name": "Python 3 (ipykernel)",
   "language": "python",
   "name": "python3"
  },
  "language_info": {
   "codemirror_mode": {
    "name": "ipython",
    "version": 3
   },
   "file_extension": ".py",
   "mimetype": "text/x-python",
   "name": "python",
   "nbconvert_exporter": "python",
   "pygments_lexer": "ipython3",
   "version": "3.9.12"
  }
 },
 "nbformat": 4,
 "nbformat_minor": 5
}
